{
  "nbformat": 4,
  "nbformat_minor": 0,
  "metadata": {
    "colab": {
      "name": "categorialCrossEntropy.ipynb",
      "provenance": [],
      "collapsed_sections": []
    },
    "kernelspec": {
      "name": "python3",
      "display_name": "Python 3"
    },
    "language_info": {
      "name": "python"
    }
  },
  "cells": [
    {
      "cell_type": "code",
      "execution_count": null,
      "metadata": {
        "id": "lscGEx1ienWF"
      },
      "outputs": [],
      "source": [
        "import tensorflow as tf\n",
        "from tensorflow.keras.losses import CategoricalCrossentropy\n",
        " \n",
        "# using one hot vector representation\n",
        "y_true = [[0, 1, 0], [1, 0, 0]]\n",
        "y_pred = [[0.15, 0.75, 0.1], [0.75, 0.15, 0.1]]\n",
        " \n",
        "cross_entropy_loss = CategoricalCrossentropy()\n",
        " \n",
        "print(cross_entropy_loss(y_true, y_pred).numpy())"
      ]
    }
  ]
}
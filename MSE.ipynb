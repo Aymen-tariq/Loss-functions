{
  "nbformat": 4,
  "nbformat_minor": 0,
  "metadata": {
    "colab": {
      "name": "MSE.ipynb",
      "provenance": []
    },
    "kernelspec": {
      "name": "python3",
      "display_name": "Python 3"
    },
    "language_info": {
      "name": "python"
    }
  },
  "cells": [
    {
      "cell_type": "code",
      "execution_count": null,
      "metadata": {
        "id": "e9wKnYajeeoM"
      },
      "outputs": [],
      "source": [
        "import tensorflow as tf\n",
        "from tensorflow.keras.losses import MeanSquaredError\n",
        " \n",
        "y_true = [1., 0.]\n",
        "y_pred = [2., 3.]\n",
        " \n",
        "mse_loss = MeanSquaredError()\n",
        " \n",
        "print(mse_loss(y_true, y_pred).numpy())"
      ]
    }
  ]
}
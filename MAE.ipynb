{
  "nbformat": 4,
  "nbformat_minor": 0,
  "metadata": {
    "colab": {
      "name": "MAE.ipynb",
      "provenance": []
    },
    "kernelspec": {
      "name": "python3",
      "display_name": "Python 3"
    },
    "language_info": {
      "name": "python"
    }
  },
  "cells": [
    {
      "cell_type": "code",
      "execution_count": null,
      "metadata": {
        "id": "Bgwv6mc4eU5N"
      },
      "outputs": [],
      "source": [
        "import tensorflow as tf\n",
        "from tensorflow.keras.losses import MeanAbsoluteError\n",
        " \n",
        "y_true = [1., 0.]\n",
        "y_pred = [2., 3.]\n",
        " \n",
        "mae_loss = MeanAbsoluteError()\n",
        " \n",
        "print(mae_loss(y_true, y_pred).numpy())"
      ]
    }
  ]
}